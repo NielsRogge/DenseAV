{
 "cells": [
  {
   "cell_type": "code",
   "execution_count": 1,
   "id": "initial_id",
   "metadata": {
    "collapsed": true,
    "ExecuteTime": {
     "end_time": "2024-06-05T03:06:02.275415Z",
     "start_time": "2024-06-05T03:05:58.559391Z"
    }
   },
   "outputs": [],
   "source": [
    "from os.path import join\n",
    "\n",
    "import torch\n",
    "import torchvision\n",
    "import torchvision.transforms as T\n",
    "from PIL import Image\n",
    "from torchaudio.functional import resample\n",
    "\n",
    "from denseav.plotting import plot_attention_video, plot_2head_attention_video, plot_feature_video\n",
    "from denseav.shared import norm, crop_to_divisor, blur_dim"
   ]
  },
  {
   "cell_type": "code",
   "outputs": [],
   "source": [
    "model_name = \"denseav_2head\"\n",
    "video_path = \"samples/puppies.mp4\"\n",
    "result_dir = \"results\""
   ],
   "metadata": {
    "collapsed": false,
    "ExecuteTime": {
     "end_time": "2024-06-05T03:06:02.280431Z",
     "start_time": "2024-06-05T03:06:02.277376Z"
    }
   },
   "id": "e0de70a3865c7239",
   "execution_count": 2
  },
  {
   "cell_type": "code",
   "outputs": [
    {
     "name": "stderr",
     "output_type": "stream",
     "text": [
      "2024-06-05 03:06:03.697525: E external/local_xla/xla/stream_executor/cuda/cuda_dnn.cc:9261] Unable to register cuDNN factory: Attempting to register factory for plugin cuDNN when one has already been registered\n",
      "2024-06-05 03:06:03.697597: E external/local_xla/xla/stream_executor/cuda/cuda_fft.cc:607] Unable to register cuFFT factory: Attempting to register factory for plugin cuFFT when one has already been registered\n",
      "2024-06-05 03:06:03.699350: E external/local_xla/xla/stream_executor/cuda/cuda_blas.cc:1515] Unable to register cuBLAS factory: Attempting to register factory for plugin cuBLAS when one has already been registered\n",
      "2024-06-05 03:06:03.708612: I tensorflow/core/platform/cpu_feature_guard.cc:182] This TensorFlow binary is optimized to use available CPU instructions in performance-critical operations.\n",
      "To enable the following instructions: AVX2 FMA, in other operations, rebuild TensorFlow with the appropriate compiler flags.\n",
      "2024-06-05 03:06:04.749009: W tensorflow/compiler/tf2tensorrt/utils/py_utils.cc:38] TF-TRT Warning: Could not find TensorRT\n",
      "Using cache found in /home/marhamil/.cache/torch/hub/facebookresearch_dino_main\n",
      "Some weights of HubertModel were not initialized from the model checkpoint at facebook/hubert-large-ls960-ft and are newly initialized: ['hubert.encoder.pos_conv_embed.conv.parametrizations.weight.original0', 'hubert.encoder.pos_conv_embed.conv.parametrizations.weight.original1']\n",
      "You should probably TRAIN this model on a down-stream task to be able to use it for predictions and inference.\n",
      "Some weights of HubertModel were not initialized from the model checkpoint at facebook/hubert-large-ls960-ft and are newly initialized: ['hubert.encoder.pos_conv_embed.conv.parametrizations.weight.original0', 'hubert.encoder.pos_conv_embed.conv.parametrizations.weight.original1']\n",
      "You should probably TRAIN this model on a down-stream task to be able to use it for predictions and inference.\n"
     ]
    },
    {
     "name": "stdout",
     "output_type": "stream",
     "text": [
      "trainable params: 147,456 || all params: 21,817,728 || trainable%: 0.6758540577644016\n"
     ]
    }
   ],
   "source": [
    "model = torch.hub.load('.', model_name, source='local').cuda()"
   ],
   "metadata": {
    "collapsed": false,
    "ExecuteTime": {
     "end_time": "2024-06-05T03:06:12.321172Z",
     "start_time": "2024-06-05T03:06:02.281871Z"
    }
   },
   "id": "e35605083dbeeb1d",
   "execution_count": 3
  },
  {
   "cell_type": "code",
   "outputs": [],
   "source": [
    "original_frames, audio, info = torchvision.io.read_video(video_path, pts_unit='sec')\n",
    "sample_rate = 16000\n",
    "\n",
    "if info[\"audio_fps\"] != sample_rate:\n",
    "    audio = resample(audio, info[\"audio_fps\"], sample_rate)\n",
    "audio = audio[0].unsqueeze(0)\n",
    "\n",
    "img_transform = T.Compose([\n",
    "    T.Resize(224 * 2, Image.BILINEAR),\n",
    "    lambda x: crop_to_divisor(x, 8),\n",
    "    lambda x: x.to(torch.float32) / 255,\n",
    "    norm])\n",
    "\n",
    "frames = torch.cat([img_transform(f.permute(2, 0, 1)).unsqueeze(0) for f in original_frames], axis=0)\n",
    "\n",
    "plotting_img_transform = T.Compose([\n",
    "    T.Resize(224 * 4, Image.BILINEAR),\n",
    "    lambda x: crop_to_divisor(x, 8),\n",
    "    lambda x: x.to(torch.float32) / 255])\n",
    "\n",
    "frames_to_plot = plotting_img_transform(original_frames.permute(0, 3, 1, 2))"
   ],
   "metadata": {
    "collapsed": false,
    "ExecuteTime": {
     "end_time": "2024-06-05T03:06:14.929197Z",
     "start_time": "2024-06-05T03:06:12.323876Z"
    }
   },
   "id": "2d5b8553fc0e372",
   "execution_count": 4
  },
  {
   "cell_type": "code",
   "outputs": [
    {
     "name": "stdout",
     "output_type": "stream",
     "text": [
      "torch.Size([181, 2, 28, 28, 33])\n"
     ]
    }
   ],
   "source": [
    "with torch.no_grad():\n",
    "    audio_feats = model.forward_audio({\"audio\": audio.cuda()})\n",
    "    image_feats = model.forward_image({\"frames\": frames.unsqueeze(0).cuda()}, max_batch_size=2)\n",
    "\n",
    "    sim_by_head = model.sim_agg.get_pairwise_sims(\n",
    "        {**image_feats, **audio_feats},\n",
    "        raw=False,\n",
    "        agg_sim=False,\n",
    "        agg_heads=False\n",
    "    ).mean(dim=-2).cpu()\n",
    "\n",
    "    sim_by_head = blur_dim(sim_by_head, window=3, dim=-1)\n",
    "    print(sim_by_head.shape)"
   ],
   "metadata": {
    "collapsed": false,
    "ExecuteTime": {
     "end_time": "2024-06-05T03:06:25.241313Z",
     "start_time": "2024-06-05T03:06:14.931384Z"
    }
   },
   "id": "a26feec6533ad7ec",
   "execution_count": 5
  },
  {
   "cell_type": "code",
   "outputs": [
    {
     "name": "stdout",
     "output_type": "stream",
     "text": [
      "Moviepy - Building video results/attention/denseav_2head/puppies.mp4.\n",
      "MoviePy - Writing audio in puppiesTEMP_MPY_wvf_snd.mp3\n"
     ]
    },
    {
     "name": "stderr",
     "output_type": "stream",
     "text": [
      "                                                        \r"
     ]
    },
    {
     "name": "stdout",
     "output_type": "stream",
     "text": [
      "MoviePy - Done.\n",
      "Moviepy - Writing video results/attention/denseav_2head/puppies.mp4\n"
     ]
    },
    {
     "name": "stderr",
     "output_type": "stream",
     "text": [
      "                                                               \r"
     ]
    },
    {
     "name": "stdout",
     "output_type": "stream",
     "text": [
      "Moviepy - Done !\n",
      "Moviepy - video ready results/attention/denseav_2head/puppies.mp4\n"
     ]
    }
   ],
   "source": [
    "plot_attention_video(\n",
    "    sim_by_head,\n",
    "    frames_to_plot,\n",
    "    audio,\n",
    "    info[\"video_fps\"],\n",
    "    sample_rate,\n",
    "    join(result_dir, \"attention\", model_name, f'{video_path.split(\"/\")[-1]}'))"
   ],
   "metadata": {
    "collapsed": false,
    "ExecuteTime": {
     "end_time": "2024-06-05T03:06:38.091664Z",
     "start_time": "2024-06-05T03:06:25.243248Z"
    }
   },
   "id": "99c46e5f3a50de3c",
   "execution_count": 6
  },
  {
   "cell_type": "code",
   "outputs": [
    {
     "name": "stdout",
     "output_type": "stream",
     "text": [
      "Moviepy - Building video results/attention/denseav_2head/2head_puppies.mp4.\n",
      "MoviePy - Writing audio in 2head_puppiesTEMP_MPY_wvf_snd.mp3\n"
     ]
    },
    {
     "name": "stderr",
     "output_type": "stream",
     "text": [
      "                                                        \r"
     ]
    },
    {
     "name": "stdout",
     "output_type": "stream",
     "text": [
      "MoviePy - Done.\n",
      "Moviepy - Writing video results/attention/denseav_2head/2head_puppies.mp4\n"
     ]
    },
    {
     "name": "stderr",
     "output_type": "stream",
     "text": [
      "                                                               \r"
     ]
    },
    {
     "name": "stdout",
     "output_type": "stream",
     "text": [
      "Moviepy - Done !\n",
      "Moviepy - video ready results/attention/denseav_2head/2head_puppies.mp4\n"
     ]
    }
   ],
   "source": [
    "plot_2head_attention_video(\n",
    "    sim_by_head,\n",
    "    frames_to_plot,\n",
    "    audio,\n",
    "    info[\"video_fps\"],\n",
    "    sample_rate,\n",
    "    join(result_dir, \"attention\", model_name, f'2head_{video_path.split(\"/\")[-1]}'))"
   ],
   "metadata": {
    "collapsed": false,
    "ExecuteTime": {
     "end_time": "2024-06-05T03:06:56.091024Z",
     "start_time": "2024-06-05T03:06:38.093505Z"
    }
   },
   "id": "91d0eec42a35de9b",
   "execution_count": 7
  },
  {
   "cell_type": "code",
   "outputs": [
    {
     "name": "stdout",
     "output_type": "stream",
     "text": [
      "Moviepy - Building video results/features/denseav_2head/visual_puppies.mp4.\n",
      "MoviePy - Writing audio in visual_puppiesTEMP_MPY_wvf_snd.mp3\n"
     ]
    },
    {
     "name": "stderr",
     "output_type": "stream",
     "text": [
      "                                                        \r"
     ]
    },
    {
     "name": "stdout",
     "output_type": "stream",
     "text": [
      "MoviePy - Done.\n",
      "Moviepy - Writing video results/features/denseav_2head/visual_puppies.mp4\n"
     ]
    },
    {
     "name": "stderr",
     "output_type": "stream",
     "text": [
      "                                                               \r"
     ]
    },
    {
     "name": "stdout",
     "output_type": "stream",
     "text": [
      "Moviepy - Done !\n",
      "Moviepy - video ready results/features/denseav_2head/visual_puppies.mp4\n",
      "Moviepy - Building video results/features/denseav_2head/audio_puppies.mp4.\n",
      "MoviePy - Writing audio in audio_puppiesTEMP_MPY_wvf_snd.mp3\n"
     ]
    },
    {
     "name": "stderr",
     "output_type": "stream",
     "text": [
      "                                                        \r"
     ]
    },
    {
     "name": "stdout",
     "output_type": "stream",
     "text": [
      "MoviePy - Done.\n",
      "Moviepy - Writing video results/features/denseav_2head/audio_puppies.mp4\n"
     ]
    },
    {
     "name": "stderr",
     "output_type": "stream",
     "text": [
      "                                                               "
     ]
    },
    {
     "name": "stdout",
     "output_type": "stream",
     "text": [
      "Moviepy - Done !\n",
      "Moviepy - video ready results/features/denseav_2head/audio_puppies.mp4\n"
     ]
    },
    {
     "name": "stderr",
     "output_type": "stream",
     "text": [
      "\r"
     ]
    }
   ],
   "source": [
    "plot_feature_video(\n",
    "    image_feats[\"image_feats\"].cpu(),\n",
    "    audio_feats['audio_feats'].cpu(),\n",
    "    frames_to_plot,\n",
    "    audio,\n",
    "    info[\"video_fps\"],\n",
    "    sample_rate,\n",
    "    join(result_dir, \"features\", model_name, f'visual_{video_path.split(\"/\")[-1]}'),\n",
    "    join(result_dir, \"features\", model_name, f'audio_{video_path.split(\"/\")[-1]}')\n",
    ")"
   ],
   "metadata": {
    "collapsed": false,
    "ExecuteTime": {
     "end_time": "2024-06-05T03:07:05.340868Z",
     "start_time": "2024-06-05T03:06:56.095160Z"
    }
   },
   "id": "d244fec7aaa340cd",
   "execution_count": 8
  }
 ],
 "metadata": {
  "kernelspec": {
   "display_name": "Python 3",
   "language": "python",
   "name": "python3"
  },
  "language_info": {
   "codemirror_mode": {
    "name": "ipython",
    "version": 2
   },
   "file_extension": ".py",
   "mimetype": "text/x-python",
   "name": "python",
   "nbconvert_exporter": "python",
   "pygments_lexer": "ipython2",
   "version": "2.7.6"
  }
 },
 "nbformat": 4,
 "nbformat_minor": 5
}
